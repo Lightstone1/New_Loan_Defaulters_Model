{
  "cells": [
    {
      "cell_type": "code",
      "execution_count": 30,
      "id": "3a01adf4",
      "metadata": {
        "id": "3a01adf4"
      },
      "outputs": [],
      "source": [
        "#IMPORTING THE NECCESSRY PACKAGES NEEDED\n",
        "\n",
        "import pandas as pd\n",
        "import matplotlib.pyplot as plt\n",
        "import seaborn as sns\n",
        "from sklearn.linear_model import LogisticRegression\n",
        "from sklearn.ensemble import RandomForestClassifier\n",
        "from sklearn.svm import SVC\n",
        "from sklearn.metrics import accuracy_score, precision_score, recall_score, f1_score\n",
        "from imblearn.over_sampling import SMOTE\n",
        "from sklearn.model_selection import train_test_split\n",
        "from sklearn.metrics import classification_report"
      ]
    },
    {
      "cell_type": "markdown",
      "id": "dfc0d71c",
      "metadata": {
        "id": "dfc0d71c"
      },
      "source": [
        "### A. Dataset Exploration"
      ]
    },
    {
      "cell_type": "code",
      "execution_count": 31,
      "id": "1851afc8",
      "metadata": {
        "id": "1851afc8"
      },
      "outputs": [],
      "source": [
        "#LOADING OUR DATA FILE IN CSV FORMAT\n",
        "df = pd.read_csv(r\"C:\\Users\\USER\\Desktop\\data science projects\\Loan_default.csv\\Loan_default.csv\")\n"
      ]
    },
    {
      "cell_type": "code",
      "execution_count": 32,
      "id": "2920d003",
      "metadata": {
        "colab": {
          "base_uri": "https://localhost:8080/",
          "height": 244
        },
        "id": "2920d003",
        "outputId": "f39b2a8c-5cc4-43db-c32e-83e32e19f30b"
      },
      "outputs": [
        {
          "data": {
            "text/html": [
              "<div>\n",
              "<style scoped>\n",
              "    .dataframe tbody tr th:only-of-type {\n",
              "        vertical-align: middle;\n",
              "    }\n",
              "\n",
              "    .dataframe tbody tr th {\n",
              "        vertical-align: top;\n",
              "    }\n",
              "\n",
              "    .dataframe thead th {\n",
              "        text-align: right;\n",
              "    }\n",
              "</style>\n",
              "<table border=\"1\" class=\"dataframe\">\n",
              "  <thead>\n",
              "    <tr style=\"text-align: right;\">\n",
              "      <th></th>\n",
              "      <th>LoanID</th>\n",
              "      <th>Age</th>\n",
              "      <th>Income</th>\n",
              "      <th>LoanAmount</th>\n",
              "      <th>CreditScore</th>\n",
              "      <th>MonthsEmployed</th>\n",
              "      <th>NumCreditLines</th>\n",
              "      <th>InterestRate</th>\n",
              "      <th>LoanTerm</th>\n",
              "      <th>DTIRatio</th>\n",
              "      <th>Education</th>\n",
              "      <th>EmploymentType</th>\n",
              "      <th>MaritalStatus</th>\n",
              "      <th>HasMortgage</th>\n",
              "      <th>HasDependents</th>\n",
              "      <th>LoanPurpose</th>\n",
              "      <th>HasCoSigner</th>\n",
              "      <th>Default</th>\n",
              "    </tr>\n",
              "  </thead>\n",
              "  <tbody>\n",
              "    <tr>\n",
              "      <th>0</th>\n",
              "      <td>I38PQUQS96</td>\n",
              "      <td>56</td>\n",
              "      <td>85994</td>\n",
              "      <td>50587</td>\n",
              "      <td>520</td>\n",
              "      <td>80</td>\n",
              "      <td>4</td>\n",
              "      <td>15.23</td>\n",
              "      <td>36</td>\n",
              "      <td>0.44</td>\n",
              "      <td>Bachelor's</td>\n",
              "      <td>Full-time</td>\n",
              "      <td>Divorced</td>\n",
              "      <td>Yes</td>\n",
              "      <td>Yes</td>\n",
              "      <td>Other</td>\n",
              "      <td>Yes</td>\n",
              "      <td>0</td>\n",
              "    </tr>\n",
              "    <tr>\n",
              "      <th>1</th>\n",
              "      <td>HPSK72WA7R</td>\n",
              "      <td>69</td>\n",
              "      <td>50432</td>\n",
              "      <td>124440</td>\n",
              "      <td>458</td>\n",
              "      <td>15</td>\n",
              "      <td>1</td>\n",
              "      <td>4.81</td>\n",
              "      <td>60</td>\n",
              "      <td>0.68</td>\n",
              "      <td>Master's</td>\n",
              "      <td>Full-time</td>\n",
              "      <td>Married</td>\n",
              "      <td>No</td>\n",
              "      <td>No</td>\n",
              "      <td>Other</td>\n",
              "      <td>Yes</td>\n",
              "      <td>0</td>\n",
              "    </tr>\n",
              "    <tr>\n",
              "      <th>2</th>\n",
              "      <td>C1OZ6DPJ8Y</td>\n",
              "      <td>46</td>\n",
              "      <td>84208</td>\n",
              "      <td>129188</td>\n",
              "      <td>451</td>\n",
              "      <td>26</td>\n",
              "      <td>3</td>\n",
              "      <td>21.17</td>\n",
              "      <td>24</td>\n",
              "      <td>0.31</td>\n",
              "      <td>Master's</td>\n",
              "      <td>Unemployed</td>\n",
              "      <td>Divorced</td>\n",
              "      <td>Yes</td>\n",
              "      <td>Yes</td>\n",
              "      <td>Auto</td>\n",
              "      <td>No</td>\n",
              "      <td>1</td>\n",
              "    </tr>\n",
              "    <tr>\n",
              "      <th>3</th>\n",
              "      <td>V2KKSFM3UN</td>\n",
              "      <td>32</td>\n",
              "      <td>31713</td>\n",
              "      <td>44799</td>\n",
              "      <td>743</td>\n",
              "      <td>0</td>\n",
              "      <td>3</td>\n",
              "      <td>7.07</td>\n",
              "      <td>24</td>\n",
              "      <td>0.23</td>\n",
              "      <td>High School</td>\n",
              "      <td>Full-time</td>\n",
              "      <td>Married</td>\n",
              "      <td>No</td>\n",
              "      <td>No</td>\n",
              "      <td>Business</td>\n",
              "      <td>No</td>\n",
              "      <td>0</td>\n",
              "    </tr>\n",
              "    <tr>\n",
              "      <th>4</th>\n",
              "      <td>EY08JDHTZP</td>\n",
              "      <td>60</td>\n",
              "      <td>20437</td>\n",
              "      <td>9139</td>\n",
              "      <td>633</td>\n",
              "      <td>8</td>\n",
              "      <td>4</td>\n",
              "      <td>6.51</td>\n",
              "      <td>48</td>\n",
              "      <td>0.73</td>\n",
              "      <td>Bachelor's</td>\n",
              "      <td>Unemployed</td>\n",
              "      <td>Divorced</td>\n",
              "      <td>No</td>\n",
              "      <td>Yes</td>\n",
              "      <td>Auto</td>\n",
              "      <td>No</td>\n",
              "      <td>0</td>\n",
              "    </tr>\n",
              "  </tbody>\n",
              "</table>\n",
              "</div>"
            ],
            "text/plain": [
              "       LoanID  Age  Income  LoanAmount  CreditScore  MonthsEmployed  \\\n",
              "0  I38PQUQS96   56   85994       50587          520              80   \n",
              "1  HPSK72WA7R   69   50432      124440          458              15   \n",
              "2  C1OZ6DPJ8Y   46   84208      129188          451              26   \n",
              "3  V2KKSFM3UN   32   31713       44799          743               0   \n",
              "4  EY08JDHTZP   60   20437        9139          633               8   \n",
              "\n",
              "   NumCreditLines  InterestRate  LoanTerm  DTIRatio    Education  \\\n",
              "0               4         15.23        36      0.44   Bachelor's   \n",
              "1               1          4.81        60      0.68     Master's   \n",
              "2               3         21.17        24      0.31     Master's   \n",
              "3               3          7.07        24      0.23  High School   \n",
              "4               4          6.51        48      0.73   Bachelor's   \n",
              "\n",
              "  EmploymentType MaritalStatus HasMortgage HasDependents LoanPurpose  \\\n",
              "0      Full-time      Divorced         Yes           Yes       Other   \n",
              "1      Full-time       Married          No            No       Other   \n",
              "2     Unemployed      Divorced         Yes           Yes        Auto   \n",
              "3      Full-time       Married          No            No    Business   \n",
              "4     Unemployed      Divorced          No           Yes        Auto   \n",
              "\n",
              "  HasCoSigner  Default  \n",
              "0         Yes        0  \n",
              "1         Yes        0  \n",
              "2          No        1  \n",
              "3          No        0  \n",
              "4          No        0  "
            ]
          },
          "execution_count": 32,
          "metadata": {},
          "output_type": "execute_result"
        }
      ],
      "source": [
        "#CHECKING THE COLUMNS OF OUR DATA\n",
        "df.head()"
      ]
    },
    {
      "cell_type": "code",
      "execution_count": 33,
      "id": "73156d4f",
      "metadata": {
        "colab": {
          "base_uri": "https://localhost:8080/"
        },
        "id": "73156d4f",
        "outputId": "82fd6feb-80d1-464f-ff52-e6b67ede5332"
      },
      "outputs": [
        {
          "data": {
            "text/plain": [
              "(255347, 18)"
            ]
          },
          "execution_count": 33,
          "metadata": {},
          "output_type": "execute_result"
        }
      ],
      "source": [
        "#CHECKING THE SHAPE OF OUR DATA\n",
        "df.shape"
      ]
    },
    {
      "cell_type": "code",
      "execution_count": 34,
      "id": "5286cf1b",
      "metadata": {
        "colab": {
          "base_uri": "https://localhost:8080/"
        },
        "id": "5286cf1b",
        "outputId": "b7652db6-dd2f-4a6e-c1ba-de9acfda8b1c"
      },
      "outputs": [
        {
          "data": {
            "text/plain": [
              "LoanID            0\n",
              "Age               0\n",
              "Income            0\n",
              "LoanAmount        0\n",
              "CreditScore       0\n",
              "MonthsEmployed    0\n",
              "NumCreditLines    0\n",
              "InterestRate      0\n",
              "LoanTerm          0\n",
              "DTIRatio          0\n",
              "Education         0\n",
              "EmploymentType    0\n",
              "MaritalStatus     0\n",
              "HasMortgage       0\n",
              "HasDependents     0\n",
              "LoanPurpose       0\n",
              "HasCoSigner       0\n",
              "Default           0\n",
              "dtype: int64"
            ]
          },
          "execution_count": 34,
          "metadata": {},
          "output_type": "execute_result"
        }
      ],
      "source": [
        "#Checking for null values\n",
        "df.isnull().sum()"
      ]
    },
    {
      "cell_type": "code",
      "execution_count": 35,
      "id": "8667bd3b",
      "metadata": {
        "colab": {
          "base_uri": "https://localhost:8080/"
        },
        "id": "8667bd3b",
        "outputId": "4704807b-a89e-4fd4-f2e9-740ed11cbb64"
      },
      "outputs": [
        {
          "name": "stdout",
          "output_type": "stream",
          "text": [
            "<class 'pandas.core.frame.DataFrame'>\n",
            "RangeIndex: 255347 entries, 0 to 255346\n",
            "Data columns (total 18 columns):\n",
            " #   Column          Non-Null Count   Dtype  \n",
            "---  ------          --------------   -----  \n",
            " 0   LoanID          255347 non-null  object \n",
            " 1   Age             255347 non-null  int64  \n",
            " 2   Income          255347 non-null  int64  \n",
            " 3   LoanAmount      255347 non-null  int64  \n",
            " 4   CreditScore     255347 non-null  int64  \n",
            " 5   MonthsEmployed  255347 non-null  int64  \n",
            " 6   NumCreditLines  255347 non-null  int64  \n",
            " 7   InterestRate    255347 non-null  float64\n",
            " 8   LoanTerm        255347 non-null  int64  \n",
            " 9   DTIRatio        255347 non-null  float64\n",
            " 10  Education       255347 non-null  object \n",
            " 11  EmploymentType  255347 non-null  object \n",
            " 12  MaritalStatus   255347 non-null  object \n",
            " 13  HasMortgage     255347 non-null  object \n",
            " 14  HasDependents   255347 non-null  object \n",
            " 15  LoanPurpose     255347 non-null  object \n",
            " 16  HasCoSigner     255347 non-null  object \n",
            " 17  Default         255347 non-null  int64  \n",
            "dtypes: float64(2), int64(8), object(8)\n",
            "memory usage: 35.1+ MB\n"
          ]
        }
      ],
      "source": [
        "#Checking the data types\n",
        "\n",
        "df.info()"
      ]
    },
    {
      "cell_type": "code",
      "execution_count": 36,
      "id": "6b95930c",
      "metadata": {
        "colab": {
          "base_uri": "https://localhost:8080/",
          "height": 363
        },
        "id": "6b95930c",
        "outputId": "077dadc6-981b-44a5-af79-23cebc4d9d99"
      },
      "outputs": [
        {
          "data": {
            "text/html": [
              "<div>\n",
              "<style scoped>\n",
              "    .dataframe tbody tr th:only-of-type {\n",
              "        vertical-align: middle;\n",
              "    }\n",
              "\n",
              "    .dataframe tbody tr th {\n",
              "        vertical-align: top;\n",
              "    }\n",
              "\n",
              "    .dataframe thead th {\n",
              "        text-align: right;\n",
              "    }\n",
              "</style>\n",
              "<table border=\"1\" class=\"dataframe\">\n",
              "  <thead>\n",
              "    <tr style=\"text-align: right;\">\n",
              "      <th></th>\n",
              "      <th>count</th>\n",
              "      <th>mean</th>\n",
              "      <th>std</th>\n",
              "      <th>min</th>\n",
              "      <th>25%</th>\n",
              "      <th>50%</th>\n",
              "      <th>75%</th>\n",
              "      <th>max</th>\n",
              "    </tr>\n",
              "  </thead>\n",
              "  <tbody>\n",
              "    <tr>\n",
              "      <th>Age</th>\n",
              "      <td>255347.0</td>\n",
              "      <td>43.498306</td>\n",
              "      <td>14.990258</td>\n",
              "      <td>18.0</td>\n",
              "      <td>31.00</td>\n",
              "      <td>43.00</td>\n",
              "      <td>56.00</td>\n",
              "      <td>69.0</td>\n",
              "    </tr>\n",
              "    <tr>\n",
              "      <th>Income</th>\n",
              "      <td>255347.0</td>\n",
              "      <td>82499.304597</td>\n",
              "      <td>38963.013729</td>\n",
              "      <td>15000.0</td>\n",
              "      <td>48825.50</td>\n",
              "      <td>82466.00</td>\n",
              "      <td>116219.00</td>\n",
              "      <td>149999.0</td>\n",
              "    </tr>\n",
              "    <tr>\n",
              "      <th>LoanAmount</th>\n",
              "      <td>255347.0</td>\n",
              "      <td>127578.865512</td>\n",
              "      <td>70840.706142</td>\n",
              "      <td>5000.0</td>\n",
              "      <td>66156.00</td>\n",
              "      <td>127556.00</td>\n",
              "      <td>188985.00</td>\n",
              "      <td>249999.0</td>\n",
              "    </tr>\n",
              "    <tr>\n",
              "      <th>CreditScore</th>\n",
              "      <td>255347.0</td>\n",
              "      <td>574.264346</td>\n",
              "      <td>158.903867</td>\n",
              "      <td>300.0</td>\n",
              "      <td>437.00</td>\n",
              "      <td>574.00</td>\n",
              "      <td>712.00</td>\n",
              "      <td>849.0</td>\n",
              "    </tr>\n",
              "    <tr>\n",
              "      <th>MonthsEmployed</th>\n",
              "      <td>255347.0</td>\n",
              "      <td>59.541976</td>\n",
              "      <td>34.643376</td>\n",
              "      <td>0.0</td>\n",
              "      <td>30.00</td>\n",
              "      <td>60.00</td>\n",
              "      <td>90.00</td>\n",
              "      <td>119.0</td>\n",
              "    </tr>\n",
              "    <tr>\n",
              "      <th>NumCreditLines</th>\n",
              "      <td>255347.0</td>\n",
              "      <td>2.501036</td>\n",
              "      <td>1.117018</td>\n",
              "      <td>1.0</td>\n",
              "      <td>2.00</td>\n",
              "      <td>2.00</td>\n",
              "      <td>3.00</td>\n",
              "      <td>4.0</td>\n",
              "    </tr>\n",
              "    <tr>\n",
              "      <th>InterestRate</th>\n",
              "      <td>255347.0</td>\n",
              "      <td>13.492773</td>\n",
              "      <td>6.636443</td>\n",
              "      <td>2.0</td>\n",
              "      <td>7.77</td>\n",
              "      <td>13.46</td>\n",
              "      <td>19.25</td>\n",
              "      <td>25.0</td>\n",
              "    </tr>\n",
              "    <tr>\n",
              "      <th>LoanTerm</th>\n",
              "      <td>255347.0</td>\n",
              "      <td>36.025894</td>\n",
              "      <td>16.969330</td>\n",
              "      <td>12.0</td>\n",
              "      <td>24.00</td>\n",
              "      <td>36.00</td>\n",
              "      <td>48.00</td>\n",
              "      <td>60.0</td>\n",
              "    </tr>\n",
              "    <tr>\n",
              "      <th>DTIRatio</th>\n",
              "      <td>255347.0</td>\n",
              "      <td>0.500212</td>\n",
              "      <td>0.230917</td>\n",
              "      <td>0.1</td>\n",
              "      <td>0.30</td>\n",
              "      <td>0.50</td>\n",
              "      <td>0.70</td>\n",
              "      <td>0.9</td>\n",
              "    </tr>\n",
              "    <tr>\n",
              "      <th>Default</th>\n",
              "      <td>255347.0</td>\n",
              "      <td>0.116128</td>\n",
              "      <td>0.320379</td>\n",
              "      <td>0.0</td>\n",
              "      <td>0.00</td>\n",
              "      <td>0.00</td>\n",
              "      <td>0.00</td>\n",
              "      <td>1.0</td>\n",
              "    </tr>\n",
              "  </tbody>\n",
              "</table>\n",
              "</div>"
            ],
            "text/plain": [
              "                   count           mean           std      min       25%  \\\n",
              "Age             255347.0      43.498306     14.990258     18.0     31.00   \n",
              "Income          255347.0   82499.304597  38963.013729  15000.0  48825.50   \n",
              "LoanAmount      255347.0  127578.865512  70840.706142   5000.0  66156.00   \n",
              "CreditScore     255347.0     574.264346    158.903867    300.0    437.00   \n",
              "MonthsEmployed  255347.0      59.541976     34.643376      0.0     30.00   \n",
              "NumCreditLines  255347.0       2.501036      1.117018      1.0      2.00   \n",
              "InterestRate    255347.0      13.492773      6.636443      2.0      7.77   \n",
              "LoanTerm        255347.0      36.025894     16.969330     12.0     24.00   \n",
              "DTIRatio        255347.0       0.500212      0.230917      0.1      0.30   \n",
              "Default         255347.0       0.116128      0.320379      0.0      0.00   \n",
              "\n",
              "                      50%        75%       max  \n",
              "Age                 43.00      56.00      69.0  \n",
              "Income           82466.00  116219.00  149999.0  \n",
              "LoanAmount      127556.00  188985.00  249999.0  \n",
              "CreditScore        574.00     712.00     849.0  \n",
              "MonthsEmployed      60.00      90.00     119.0  \n",
              "NumCreditLines       2.00       3.00       4.0  \n",
              "InterestRate        13.46      19.25      25.0  \n",
              "LoanTerm            36.00      48.00      60.0  \n",
              "DTIRatio             0.50       0.70       0.9  \n",
              "Default              0.00       0.00       1.0  "
            ]
          },
          "execution_count": 36,
          "metadata": {},
          "output_type": "execute_result"
        }
      ],
      "source": [
        "#Checking the statistics of the nueric data\n",
        "\n",
        "df.describe().transpose()"
      ]
    },
    {
      "cell_type": "code",
      "execution_count": 37,
      "id": "6181506a",
      "metadata": {
        "colab": {
          "base_uri": "https://localhost:8080/",
          "height": 300
        },
        "id": "6181506a",
        "outputId": "c6b43b65-2f85-4cb8-9b69-03ea56aaabcd"
      },
      "outputs": [
        {
          "data": {
            "text/html": [
              "<div>\n",
              "<style scoped>\n",
              "    .dataframe tbody tr th:only-of-type {\n",
              "        vertical-align: middle;\n",
              "    }\n",
              "\n",
              "    .dataframe tbody tr th {\n",
              "        vertical-align: top;\n",
              "    }\n",
              "\n",
              "    .dataframe thead th {\n",
              "        text-align: right;\n",
              "    }\n",
              "</style>\n",
              "<table border=\"1\" class=\"dataframe\">\n",
              "  <thead>\n",
              "    <tr style=\"text-align: right;\">\n",
              "      <th></th>\n",
              "      <th>count</th>\n",
              "      <th>unique</th>\n",
              "      <th>top</th>\n",
              "      <th>freq</th>\n",
              "    </tr>\n",
              "  </thead>\n",
              "  <tbody>\n",
              "    <tr>\n",
              "      <th>LoanID</th>\n",
              "      <td>255347</td>\n",
              "      <td>255347</td>\n",
              "      <td>I38PQUQS96</td>\n",
              "      <td>1</td>\n",
              "    </tr>\n",
              "    <tr>\n",
              "      <th>Education</th>\n",
              "      <td>255347</td>\n",
              "      <td>4</td>\n",
              "      <td>Bachelor's</td>\n",
              "      <td>64366</td>\n",
              "    </tr>\n",
              "    <tr>\n",
              "      <th>EmploymentType</th>\n",
              "      <td>255347</td>\n",
              "      <td>4</td>\n",
              "      <td>Part-time</td>\n",
              "      <td>64161</td>\n",
              "    </tr>\n",
              "    <tr>\n",
              "      <th>MaritalStatus</th>\n",
              "      <td>255347</td>\n",
              "      <td>3</td>\n",
              "      <td>Married</td>\n",
              "      <td>85302</td>\n",
              "    </tr>\n",
              "    <tr>\n",
              "      <th>HasMortgage</th>\n",
              "      <td>255347</td>\n",
              "      <td>2</td>\n",
              "      <td>Yes</td>\n",
              "      <td>127677</td>\n",
              "    </tr>\n",
              "    <tr>\n",
              "      <th>HasDependents</th>\n",
              "      <td>255347</td>\n",
              "      <td>2</td>\n",
              "      <td>Yes</td>\n",
              "      <td>127742</td>\n",
              "    </tr>\n",
              "    <tr>\n",
              "      <th>LoanPurpose</th>\n",
              "      <td>255347</td>\n",
              "      <td>5</td>\n",
              "      <td>Business</td>\n",
              "      <td>51298</td>\n",
              "    </tr>\n",
              "    <tr>\n",
              "      <th>HasCoSigner</th>\n",
              "      <td>255347</td>\n",
              "      <td>2</td>\n",
              "      <td>Yes</td>\n",
              "      <td>127701</td>\n",
              "    </tr>\n",
              "  </tbody>\n",
              "</table>\n",
              "</div>"
            ],
            "text/plain": [
              "                 count  unique         top    freq\n",
              "LoanID          255347  255347  I38PQUQS96       1\n",
              "Education       255347       4  Bachelor's   64366\n",
              "EmploymentType  255347       4   Part-time   64161\n",
              "MaritalStatus   255347       3     Married   85302\n",
              "HasMortgage     255347       2         Yes  127677\n",
              "HasDependents   255347       2         Yes  127742\n",
              "LoanPurpose     255347       5    Business   51298\n",
              "HasCoSigner     255347       2         Yes  127701"
            ]
          },
          "execution_count": 37,
          "metadata": {},
          "output_type": "execute_result"
        }
      ],
      "source": [
        "df.describe(include='object').transpose()"
      ]
    },
    {
      "cell_type": "code",
      "execution_count": null,
      "id": "e0375456",
      "metadata": {
        "id": "e0375456"
      },
      "outputs": [],
      "source": []
    },
    {
      "cell_type": "markdown",
      "id": "2f778edf",
      "metadata": {
        "id": "2f778edf"
      },
      "source": [
        "### B.  VISUALIZATION"
      ]
    },
    {
      "cell_type": "code",
      "execution_count": 38,
      "id": "ddccb99e",
      "metadata": {
        "colab": {
          "base_uri": "https://localhost:8080/",
          "height": 671
        },
        "id": "ddccb99e",
        "outputId": "d935ebb9-be88-466c-e6a1-7b2309b3ecbc"
      },
      "outputs": [
        {
          "data": {
            "image/png": "[encoded data removed]",
            "text/plain": [
              "<Figure size 800x600 with 1 Axes>"
            ]
          },
          "metadata": {},
          "output_type": "display_data"
        }
      ],
      "source": [
        "plt.figure(figsize=(8, 6))\n",
        "sns.countplot(x='Default', data=df, palette='Set1')\n",
        "plt.title('Count of Default and Non-Default Cases')\n",
        "plt.xlabel('Default')\n",
        "plt.ylabel('Count')\n",
        "plt.show()"
      ]
    },
    {
      "cell_type": "code",
      "execution_count": 39,
      "id": "a53cd893",
      "metadata": {
        "colab": {
          "base_uri": "https://localhost:8080/",
          "height": 564
        },
        "id": "a53cd893",
        "outputId": "7211d8ca-4aef-41ba-f8c5-a9af74b596a8"
      },
      "outputs": [
        {
          "data": {
            "image/png": "[encoded data removed]",
            "text/plain": [
              "<Figure size 1200x600 with 1 Axes>"
            ]
          },
          "metadata": {},
          "output_type": "display_data"
        }
      ],
      "source": [
        "plt.figure(figsize=(12, 6))\n",
        "sns.countplot(x='LoanPurpose', hue='Default', data=df, palette='viridis')\n",
        "plt.title('Count of Default Cases by Loan Purpose')\n",
        "plt.xlabel('Loan Purpose')\n",
        "plt.ylabel('Count')\n",
        "plt.show()\n",
        "\n"
      ]
    },
    {
      "cell_type": "code",
      "execution_count": 40,
      "id": "93e81df3",
      "metadata": {
        "colab": {
          "base_uri": "https://localhost:8080/",
          "height": 573
        },
        "id": "93e81df3",
        "outputId": "80ad3548-994a-4020-974b-6e0ac698b0b8"
      },
      "outputs": [
        {
          "data": {
            "image/png": "[encoded data removed]",
            "text/plain": [
              "<Figure size 1000x600 with 1 Axes>"
            ]
          },
          "metadata": {},
          "output_type": "display_data"
        }
      ],
      "source": [
        "sns.set(style=\"whitegrid\")\n",
        "plt.figure(figsize=(10, 6))\n",
        "sns.histplot(df['Age'], bins=30, kde=True, color='skyblue')\n",
        "plt.title('Distribution of Age')\n",
        "plt.xlabel('Age')\n",
        "plt.show()\n",
        "\n"
      ]
    },
    {
      "cell_type": "code",
      "execution_count": 41,
      "id": "f467588f",
      "metadata": {
        "colab": {
          "base_uri": "https://localhost:8080/",
          "height": 573
        },
        "id": "f467588f",
        "outputId": "0fe323e3-1c0e-466b-e4e5-b661c5555935"
      },
      "outputs": [
        {
          "data": {
            "image/png": "[encoded data removed]",
            "text/plain": [
              "<Figure size 1000x600 with 1 Axes>"
            ]
          },
          "metadata": {},
          "output_type": "display_data"
        }
      ],
      "source": [
        "# Create a bar chart for the distribution of Income\n",
        "plt.figure(figsize=(10, 6))\n",
        "plt.hist(df['Income'], bins= 30, color='salmon', edgecolor='black')\n",
        "plt.title('Distribution of Income')\n",
        "plt.xlabel('Income')\n",
        "plt.ylabel('Count')\n",
        "plt.show()"
      ]
    },
    {
      "cell_type": "code",
      "execution_count": 42,
      "id": "6ed39b54",
      "metadata": {
        "colab": {
          "base_uri": "https://localhost:8080/",
          "height": 573
        },
        "id": "6ed39b54",
        "outputId": "5db8c170-2a48-4f9b-dac0-529914377e03"
      },
      "outputs": [
        {
          "data": {
            "image/png": "[encoded data removed]",
            "text/plain": [
              "<Figure size 1000x600 with 1 Axes>"
            ]
          },
          "metadata": {},
          "output_type": "display_data"
        }
      ],
      "source": [
        "# Visualizing Loan Amount distribution\n",
        "plt.figure(figsize=(10, 6))\n",
        "sns.histplot(df['LoanAmount'], bins=30, kde=True, color='green')\n",
        "plt.title('Distribution of Loan Amount')\n",
        "plt.xlabel('Loan Amount')\n",
        "plt.show()\n"
      ]
    },
    {
      "cell_type": "code",
      "execution_count": 43,
      "id": "41e369f2",
      "metadata": {
        "colab": {
          "base_uri": "https://localhost:8080/",
          "height": 680
        },
        "id": "41e369f2",
        "outputId": "95d01f47-2381-49d0-9c36-74b6fe9e545a"
      },
      "outputs": [
        {
          "data": {
            "image/png": "[encoded data removed]",
            "text/plain": [
              "<Figure size 1000x600 with 1 Axes>"
            ]
          },
          "metadata": {},
          "output_type": "display_data"
        }
      ],
      "source": [
        "# Countplot for Employment Type\n",
        "plt.figure(figsize=(10, 6))\n",
        "sns.countplot(x='EmploymentType', data=df, palette='pastel')\n",
        "plt.title('Count of Applicants by Employment Type')\n",
        "plt.xlabel('Employment Type')\n",
        "plt.ylabel('Count')\n",
        "plt.show()"
      ]
    },
    {
      "cell_type": "code",
      "execution_count": 44,
      "id": "2c3e2090",
      "metadata": {
        "colab": {
          "base_uri": "https://localhost:8080/",
          "height": 680
        },
        "id": "2c3e2090",
        "outputId": "ca61d2d9-7fc0-4bd5-e5af-4c8383b3a5a2"
      },
      "outputs": [
        {
          "data": {
            "image/png": "[encoded data removed]",
            "text/plain": [
              "<Figure size 1000x600 with 1 Axes>"
            ]
          },
          "metadata": {},
          "output_type": "display_data"
        }
      ],
      "source": [
        "plt.figure(figsize=(10, 6))\n",
        "sns.boxplot(x='Default', y='Age', data=df, palette='coolwarm')\n",
        "plt.title('Age vs. Default')\n",
        "plt.xlabel('Default')\n",
        "plt.ylabel('Age')\n",
        "plt.show()"
      ]
    },
    {
      "cell_type": "code",
      "execution_count": 45,
      "id": "4f0a42d8",
      "metadata": {
        "colab": {
          "base_uri": "https://localhost:8080/",
          "height": 680
        },
        "id": "4f0a42d8",
        "outputId": "9539a13b-927e-42fc-b186-dde65a38b91f"
      },
      "outputs": [
        {
          "data": {
            "image/png": "[encoded data removed]",
            "text/plain": [
              "<Figure size 1000x600 with 1 Axes>"
            ]
          },
          "metadata": {},
          "output_type": "display_data"
        }
      ],
      "source": [
        "plt.figure(figsize=(10, 6))\n",
        "sns.boxplot(x='Default', y='Income', data=df, palette='viridis')\n",
        "plt.title('Income vs. Default')\n",
        "plt.xlabel('Default')\n",
        "plt.ylabel('Income')\n",
        "plt.show()\n"
      ]
    },
    {
      "cell_type": "code",
      "execution_count": 46,
      "id": "520c2585",
      "metadata": {
        "colab": {
          "base_uri": "https://localhost:8080/"
        },
        "id": "520c2585",
        "outputId": "0e5c83f8-30f0-4ae8-e22a-d7e479c571ac"
      },
      "outputs": [
        {
          "data": {
            "text/plain": [
              "Index(['LoanID', 'Age', 'Income', 'LoanAmount', 'CreditScore',\n",
              "       'MonthsEmployed', 'NumCreditLines', 'InterestRate', 'LoanTerm',\n",
              "       'DTIRatio', 'Education', 'EmploymentType', 'MaritalStatus',\n",
              "       'HasMortgage', 'HasDependents', 'LoanPurpose', 'HasCoSigner',\n",
              "       'Default'],\n",
              "      dtype='object')"
            ]
          },
          "execution_count": 46,
          "metadata": {},
          "output_type": "execute_result"
        }
      ],
      "source": [
        "df.columns"
      ]
    },
    {
      "cell_type": "code",
      "execution_count": 47,
      "id": "e083b414",
      "metadata": {
        "colab": {
          "base_uri": "https://localhost:8080/",
          "height": 278
        },
        "id": "e083b414",
        "outputId": "ad66f266-27a7-4a5b-9011-965234a6b565"
      },
      "outputs": [
        {
          "data": {
            "image/png": "[encoded data removed]",
            "text/plain": [
              "<Figure size 2000x400 with 9 Axes>"
            ]
          },
          "metadata": {},
          "output_type": "display_data"
        }
      ],
      "source": [
        "#Checking for outliers\n",
        "\n",
        "var=['Age', 'Income', 'LoanAmount', 'CreditScore',\n",
        "       'MonthsEmployed', 'NumCreditLines', 'InterestRate', 'LoanTerm',\n",
        "       'DTIRatio', 'Education', 'EmploymentType', 'MaritalStatus',\n",
        "       'HasMortgage', 'HasDependents', 'LoanPurpose', 'HasCoSigner']\n",
        "df[var].plot(\n",
        "kind = 'box',\n",
        "figsize = (20,4),\n",
        "subplots = True);"
      ]
    },
    {
      "cell_type": "code",
      "execution_count": 48,
      "id": "a855bda3",
      "metadata": {
        "id": "a855bda3"
      },
      "outputs": [],
      "source": [
        "#Removig the ID column\n",
        "\n",
        "df= df.drop('LoanID', axis=1)"
      ]
    },
    {
      "cell_type": "code",
      "execution_count": 49,
      "id": "a3898ef7",
      "metadata": {
        "colab": {
          "base_uri": "https://localhost:8080/"
        },
        "id": "a3898ef7",
        "outputId": "c63afe23-2c37-4412-aeb4-21f64d128908"
      },
      "outputs": [
        {
          "name": "stdout",
          "output_type": "stream",
          "text": [
            "<class 'pandas.core.frame.DataFrame'>\n",
            "RangeIndex: 255347 entries, 0 to 255346\n",
            "Data columns (total 17 columns):\n",
            " #   Column          Non-Null Count   Dtype  \n",
            "---  ------          --------------   -----  \n",
            " 0   Age             255347 non-null  int64  \n",
            " 1   Income          255347 non-null  int64  \n",
            " 2   LoanAmount      255347 non-null  int64  \n",
            " 3   CreditScore     255347 non-null  int64  \n",
            " 4   MonthsEmployed  255347 non-null  int64  \n",
            " 5   NumCreditLines  255347 non-null  int64  \n",
            " 6   InterestRate    255347 non-null  float64\n",
            " 7   LoanTerm        255347 non-null  int64  \n",
            " 8   DTIRatio        255347 non-null  float64\n",
            " 9   Education       255347 non-null  object \n",
            " 10  EmploymentType  255347 non-null  object \n",
            " 11  MaritalStatus   255347 non-null  object \n",
            " 12  HasMortgage     255347 non-null  object \n",
            " 13  HasDependents   255347 non-null  object \n",
            " 14  LoanPurpose     255347 non-null  object \n",
            " 15  HasCoSigner     255347 non-null  object \n",
            " 16  Default         255347 non-null  int64  \n",
            "dtypes: float64(2), int64(8), object(7)\n",
            "memory usage: 33.1+ MB\n"
          ]
        }
      ],
      "source": [
        "df.info()"
      ]
    },
    {
      "cell_type": "code",
      "execution_count": 50,
      "id": "9f1460d5",
      "metadata": {
        "colab": {
          "base_uri": "https://localhost:8080/",
          "height": 429
        },
        "id": "9f1460d5",
        "outputId": "18fef247-00e9-42d2-c607-03fff0eecc7a"
      },
      "outputs": [
        {
          "data": {
            "image/png": "[encoded data removed]",
            "text/plain": [
              "<Figure size 640x480 with 1 Axes>"
            ]
          },
          "metadata": {},
          "output_type": "display_data"
        }
      ],
      "source": [
        "df['Default'].value_counts().plot(kind='bar');"
      ]
    },
    {
      "cell_type": "code",
      "execution_count": 51,
      "id": "620956ae",
      "metadata": {
        "id": "620956ae"
      },
      "outputs": [],
      "source": [
        "#Add Age group for our ages\n",
        "def ageconversion(age):\n",
        "    agecategory=[]\n",
        "    for i in age:\n",
        "        if i <20:\n",
        "            agecategory.append('<20')\n",
        "        elif i <26:\n",
        "            agecategory.append('20-25')\n",
        "        elif i < 31:\n",
        "            agecategory.append('26-30')\n",
        "        elif i < 36:\n",
        "            agecategory.append('31-35')\n",
        "        elif i < 41:\n",
        "            agecategory.append('36-40')\n",
        "        elif i < 46:\n",
        "            agecategory.append('41-45')\n",
        "        elif i <51:\n",
        "            agecategory.append('46-50')\n",
        "        elif i <56:\n",
        "            agecategory.append('51-55')\n",
        "        elif i <61:\n",
        "            agecategory.append('56-60')\n",
        "        else:\n",
        "            agecategory.append('>60')\n",
        "\n",
        "\n",
        "\n",
        "    return agecategory\n"
      ]
    },
    {
      "cell_type": "code",
      "execution_count": 52,
      "id": "260aff2e",
      "metadata": {
        "id": "260aff2e"
      },
      "outputs": [],
      "source": [
        "df['age_category']=ageconversion(df['Age'])"
      ]
    },
    {
      "cell_type": "code",
      "execution_count": 53,
      "id": "ecfaf4cf",
      "metadata": {
        "id": "ecfaf4cf"
      },
      "outputs": [],
      "source": [
        "#Categorising the Credit score\n",
        "\n",
        "def creditscoreconversion(creditscore):\n",
        "    creditscorecategory=[]\n",
        "    for i in creditscore:\n",
        "        if i <300:\n",
        "            creditscorecategory.append('<300')\n",
        "        elif i <401:\n",
        "            creditscorecategory.append('300-400')\n",
        "        elif i < 501:\n",
        "            creditscorecategory.append('401-500')\n",
        "        elif i < 601:\n",
        "            creditscorecategory.append('501-600')\n",
        "        elif i < 701:\n",
        "            creditscorecategory.append('601-700')\n",
        "        elif i < 801:\n",
        "            creditscorecategory.append('701-800')\n",
        "        else:\n",
        "            creditscorecategory.append('> 800')\n",
        "\n",
        "\n",
        "\n",
        "    return creditscorecategory\n"
      ]
    },
    {
      "cell_type": "code",
      "execution_count": 54,
      "id": "ad0351ef",
      "metadata": {
        "id": "ad0351ef"
      },
      "outputs": [],
      "source": [
        "df['creditscore_category']=creditscoreconversion(df['CreditScore'])"
      ]
    },
    {
      "cell_type": "code",
      "execution_count": 55,
      "id": "f38cbec0",
      "metadata": {
        "colab": {
          "base_uri": "https://localhost:8080/",
          "height": 244
        },
        "id": "f38cbec0",
        "outputId": "f70e7bbf-ff70-4b20-987c-f82562fdface"
      },
      "outputs": [
        {
          "data": {
            "text/html": [
              "<div>\n",
              "<style scoped>\n",
              "    .dataframe tbody tr th:only-of-type {\n",
              "        vertical-align: middle;\n",
              "    }\n",
              "\n",
              "    .dataframe tbody tr th {\n",
              "        vertical-align: top;\n",
              "    }\n",
              "\n",
              "    .dataframe thead th {\n",
              "        text-align: right;\n",
              "    }\n",
              "</style>\n",
              "<table border=\"1\" class=\"dataframe\">\n",
              "  <thead>\n",
              "    <tr style=\"text-align: right;\">\n",
              "      <th></th>\n",
              "      <th>Age</th>\n",
              "      <th>Income</th>\n",
              "      <th>LoanAmount</th>\n",
              "      <th>CreditScore</th>\n",
              "      <th>MonthsEmployed</th>\n",
              "      <th>NumCreditLines</th>\n",
              "      <th>InterestRate</th>\n",
              "      <th>LoanTerm</th>\n",
              "      <th>DTIRatio</th>\n",
              "      <th>Education</th>\n",
              "      <th>EmploymentType</th>\n",
              "      <th>MaritalStatus</th>\n",
              "      <th>HasMortgage</th>\n",
              "      <th>HasDependents</th>\n",
              "      <th>LoanPurpose</th>\n",
              "      <th>HasCoSigner</th>\n",
              "      <th>Default</th>\n",
              "      <th>age_category</th>\n",
              "      <th>creditscore_category</th>\n",
              "    </tr>\n",
              "  </thead>\n",
              "  <tbody>\n",
              "    <tr>\n",
              "      <th>0</th>\n",
              "      <td>56</td>\n",
              "      <td>85994</td>\n",
              "      <td>50587</td>\n",
              "      <td>520</td>\n",
              "      <td>80</td>\n",
              "      <td>4</td>\n",
              "      <td>15.23</td>\n",
              "      <td>36</td>\n",
              "      <td>0.44</td>\n",
              "      <td>Bachelor's</td>\n",
              "      <td>Full-time</td>\n",
              "      <td>Divorced</td>\n",
              "      <td>Yes</td>\n",
              "      <td>Yes</td>\n",
              "      <td>Other</td>\n",
              "      <td>Yes</td>\n",
              "      <td>0</td>\n",
              "      <td>56-60</td>\n",
              "      <td>501-600</td>\n",
              "    </tr>\n",
              "    <tr>\n",
              "      <th>1</th>\n",
              "      <td>69</td>\n",
              "      <td>50432</td>\n",
              "      <td>124440</td>\n",
              "      <td>458</td>\n",
              "      <td>15</td>\n",
              "      <td>1</td>\n",
              "      <td>4.81</td>\n",
              "      <td>60</td>\n",
              "      <td>0.68</td>\n",
              "      <td>Master's</td>\n",
              "      <td>Full-time</td>\n",
              "      <td>Married</td>\n",
              "      <td>No</td>\n",
              "      <td>No</td>\n",
              "      <td>Other</td>\n",
              "      <td>Yes</td>\n",
              "      <td>0</td>\n",
              "      <td>&gt;60</td>\n",
              "      <td>401-500</td>\n",
              "    </tr>\n",
              "    <tr>\n",
              "      <th>2</th>\n",
              "      <td>46</td>\n",
              "      <td>84208</td>\n",
              "      <td>129188</td>\n",
              "      <td>451</td>\n",
              "      <td>26</td>\n",
              "      <td>3</td>\n",
              "      <td>21.17</td>\n",
              "      <td>24</td>\n",
              "      <td>0.31</td>\n",
              "      <td>Master's</td>\n",
              "      <td>Unemployed</td>\n",
              "      <td>Divorced</td>\n",
              "      <td>Yes</td>\n",
              "      <td>Yes</td>\n",
              "      <td>Auto</td>\n",
              "      <td>No</td>\n",
              "      <td>1</td>\n",
              "      <td>46-50</td>\n",
              "      <td>401-500</td>\n",
              "    </tr>\n",
              "    <tr>\n",
              "      <th>3</th>\n",
              "      <td>32</td>\n",
              "      <td>31713</td>\n",
              "      <td>44799</td>\n",
              "      <td>743</td>\n",
              "      <td>0</td>\n",
              "      <td>3</td>\n",
              "      <td>7.07</td>\n",
              "      <td>24</td>\n",
              "      <td>0.23</td>\n",
              "      <td>High School</td>\n",
              "      <td>Full-time</td>\n",
              "      <td>Married</td>\n",
              "      <td>No</td>\n",
              "      <td>No</td>\n",
              "      <td>Business</td>\n",
              "      <td>No</td>\n",
              "      <td>0</td>\n",
              "      <td>31-35</td>\n",
              "      <td>701-800</td>\n",
              "    </tr>\n",
              "    <tr>\n",
              "      <th>4</th>\n",
              "      <td>60</td>\n",
              "      <td>20437</td>\n",
              "      <td>9139</td>\n",
              "      <td>633</td>\n",
              "      <td>8</td>\n",
              "      <td>4</td>\n",
              "      <td>6.51</td>\n",
              "      <td>48</td>\n",
              "      <td>0.73</td>\n",
              "      <td>Bachelor's</td>\n",
              "      <td>Unemployed</td>\n",
              "      <td>Divorced</td>\n",
              "      <td>No</td>\n",
              "      <td>Yes</td>\n",
              "      <td>Auto</td>\n",
              "      <td>No</td>\n",
              "      <td>0</td>\n",
              "      <td>56-60</td>\n",
              "      <td>601-700</td>\n",
              "    </tr>\n",
              "  </tbody>\n",
              "</table>\n",
              "</div>"
            ],
            "text/plain": [
              "   Age  Income  LoanAmount  CreditScore  MonthsEmployed  NumCreditLines  \\\n",
              "0   56   85994       50587          520              80               4   \n",
              "1   69   50432      124440          458              15               1   \n",
              "2   46   84208      129188          451              26               3   \n",
              "3   32   31713       44799          743               0               3   \n",
              "4   60   20437        9139          633               8               4   \n",
              "\n",
              "   InterestRate  LoanTerm  DTIRatio    Education EmploymentType MaritalStatus  \\\n",
              "0         15.23        36      0.44   Bachelor's      Full-time      Divorced   \n",
              "1          4.81        60      0.68     Master's      Full-time       Married   \n",
              "2         21.17        24      0.31     Master's     Unemployed      Divorced   \n",
              "3          7.07        24      0.23  High School      Full-time       Married   \n",
              "4          6.51        48      0.73   Bachelor's     Unemployed      Divorced   \n",
              "\n",
              "  HasMortgage HasDependents LoanPurpose HasCoSigner  Default age_category  \\\n",
              "0         Yes           Yes       Other         Yes        0        56-60   \n",
              "1          No            No       Other         Yes        0          >60   \n",
              "2         Yes           Yes        Auto          No        1        46-50   \n",
              "3          No            No    Business          No        0        31-35   \n",
              "4          No           Yes        Auto          No        0        56-60   \n",
              "\n",
              "  creditscore_category  \n",
              "0              501-600  \n",
              "1              401-500  \n",
              "2              401-500  \n",
              "3              701-800  \n",
              "4              601-700  "
            ]
          },
          "execution_count": 55,
          "metadata": {},
          "output_type": "execute_result"
        }
      ],
      "source": [
        "df.head()"
      ]
    },
    {
      "cell_type": "code",
      "execution_count": 56,
      "id": "db0c1ee3",
      "metadata": {
        "colab": {
          "base_uri": "https://localhost:8080/"
        },
        "id": "db0c1ee3",
        "outputId": "4c52805a-834a-4cf1-f4ac-d52a10935ca0"
      },
      "outputs": [
        {
          "name": "stdout",
          "output_type": "stream",
          "text": [
            "Education: [\"Bachelor's\" \"Master's\" 'High School' 'PhD']\n",
            "EmploymentType: ['Full-time' 'Unemployed' 'Self-employed' 'Part-time']\n",
            "MaritalStatus: ['Divorced' 'Married' 'Single']\n",
            "HasMortgage: ['Yes' 'No']\n",
            "HasDependents: ['Yes' 'No']\n",
            "LoanPurpose: ['Other' 'Auto' 'Business' 'Home' 'Education']\n",
            "HasCoSigner: ['Yes' 'No']\n",
            "age_category: ['56-60' '>60' '46-50' '31-35' '20-25' '36-40' '26-30' '41-45' '51-55'\n",
            " '<20']\n",
            "creditscore_category: ['501-600' '401-500' '701-800' '601-700' '> 800' '300-400']\n"
          ]
        }
      ],
      "source": [
        "#Lets look at the unique values of the categorical fields in the dataframe.\n",
        "\n",
        "for col in df:\n",
        "  if df[col].dtype == \"object\":\n",
        "    print(f\"{col}: {df[col].unique()}\")"
      ]
    },
    {
      "cell_type": "code",
      "execution_count": 57,
      "id": "1a3b72cd",
      "metadata": {
        "id": "1a3b72cd"
      },
      "outputs": [],
      "source": [
        "# this scripts looks at all our categorical fields that contain either yes or no and replaces their value with 1 and 0 respectively\n",
        "\n",
        "for column in df:\n",
        "    if df[column].dtype == 'object' and set(df[column].unique()) == {'Yes', 'No'}:\n",
        "        df[column] = df[column].map({'Yes': 1, 'No': 0})"
      ]
    },
    {
      "cell_type": "code",
      "execution_count": 58,
      "id": "5953e6ca",
      "metadata": {
        "id": "5953e6ca"
      },
      "outputs": [],
      "source": [
        "from sklearn.preprocessing import LabelEncoder\n",
        "le = LabelEncoder()\n",
        "\n",
        "df['Education']      = le.fit_transform(df['Education'])\n",
        "df['EmploymentType'] = le.fit_transform(df['EmploymentType'])\n",
        "df['MaritalStatus']  = le.fit_transform(df['MaritalStatus'])\n",
        "df['LoanPurpose']    = le.fit_transform(df['LoanPurpose'])\n"
      ]
    },
    {
      "cell_type": "code",
      "execution_count": 59,
      "id": "FSzKXwqo0fYw",
      "metadata": {
        "id": "FSzKXwqo0fYw"
      },
      "outputs": [],
      "source": [
        "from sklearn.preprocessing import MinMaxScaler\n",
        "scaler = MinMaxScaler()\n",
        "\n",
        "col = ['InterestRate', 'DTIRatio','Age','Income','LoanAmount','LoanTerm','CreditScore','MonthsEmployed','NumCreditLines']\n",
        "df[col] = scaler.fit_transform(df[col])"
      ]
    },
    {
      "cell_type": "code",
      "execution_count": 60,
      "id": "9cff732c",
      "metadata": {
        "colab": {
          "base_uri": "https://localhost:8080/"
        },
        "id": "9cff732c",
        "outputId": "a565d854-c520-4f08-cddb-73b640c1dc39"
      },
      "outputs": [
        {
          "data": {
            "text/plain": [
              "Age                     0\n",
              "Income                  0\n",
              "LoanAmount              0\n",
              "CreditScore             0\n",
              "MonthsEmployed          0\n",
              "NumCreditLines          0\n",
              "InterestRate            0\n",
              "LoanTerm                0\n",
              "DTIRatio                0\n",
              "Education               0\n",
              "EmploymentType          0\n",
              "MaritalStatus           0\n",
              "HasMortgage             0\n",
              "HasDependents           0\n",
              "LoanPurpose             0\n",
              "HasCoSigner             0\n",
              "Default                 0\n",
              "age_category            0\n",
              "creditscore_category    0\n",
              "dtype: int64"
            ]
          },
          "execution_count": 60,
          "metadata": {},
          "output_type": "execute_result"
        }
      ],
      "source": [
        "df = df.dropna()\n",
        "x = df.drop(['age_category','creditscore_category','Default'], axis = 1)\n",
        "y = df.Default\n",
        "pd.set_option('display.max_columns', None)        #This will ensure that all the data attributes are displayed\n",
        "\n",
        "df.isnull().sum()"
      ]
    },
    {
      "cell_type": "code",
      "execution_count": 61,
      "id": "baa26ff3",
      "metadata": {
        "colab": {
          "base_uri": "https://localhost:8080/",
          "height": 446
        },
        "id": "baa26ff3",
        "outputId": "45fc3042-2dd4-42ea-ee8b-d82204451824"
      },
      "outputs": [
        {
          "data": {
            "text/plain": [
              "<Axes: xlabel='Default'>"
            ]
          },
          "execution_count": 61,
          "metadata": {},
          "output_type": "execute_result"
        },
        {
          "data": {
            "image/png": "[encoded data removed]",
            "text/plain": [
              "<Figure size 640x480 with 1 Axes>"
            ]
          },
          "metadata": {},
          "output_type": "display_data"
        }
      ],
      "source": [
        "y.value_counts().plot(kind='bar')"
      ]
    },
    {
      "cell_type": "code",
      "execution_count": 62,
      "id": "979295fd",
      "metadata": {
        "id": "979295fd"
      },
      "outputs": [],
      "source": [
        "#BALANCING OUR INBALANCE DATA using SMOTE\n",
        "\n",
        "smote = SMOTE(sampling_strategy='auto', random_state=42)\n",
        "x_resampled, y_resampled = smote.fit_resample(x,y)\n"
      ]
    },
    {
      "cell_type": "code",
      "execution_count": 63,
      "id": "6e8fb6dc",
      "metadata": {
        "colab": {
          "base_uri": "https://localhost:8080/",
          "height": 429
        },
        "id": "6e8fb6dc",
        "outputId": "8da83c8e-4233-419a-ea8c-6ba15d4cecb3"
      },
      "outputs": [
        {
          "data": {
            "image/png": "[encoded data removed]",
            "text/plain": [
              "<Figure size 640x480 with 1 Axes>"
            ]
          },
          "metadata": {},
          "output_type": "display_data"
        }
      ],
      "source": [
        "#Confirmingg our balanced data\n",
        "y_resampled.value_counts().plot(kind='bar');\n"
      ]
    },
    {
      "cell_type": "code",
      "execution_count": 64,
      "id": "9871c718",
      "metadata": {
        "id": "9871c718"
      },
      "outputs": [],
      "source": [
        "#splitting our data training data and testing data\n",
        "\n",
        "x_train,x_test,y_train,y_test= train_test_split(x_resampled, y_resampled, test_size=0.2, random_state=42)"
      ]
    },
    {
      "cell_type": "code",
      "execution_count": 65,
      "id": "7fe5a9ca",
      "metadata": {
        "colab": {
          "base_uri": "https://localhost:8080/"
        },
        "id": "7fe5a9ca",
        "outputId": "f65e7799-2492-4c3e-a8f0-f01dac179c49"
      },
      "outputs": [
        {
          "name": "stdout",
          "output_type": "stream",
          "text": [
            "(361110, 16)\n",
            "(451388, 16)\n"
          ]
        }
      ],
      "source": [
        "print(x_train.shape)\n",
        "print(x_resampled.shape)"
      ]
    },
    {
      "cell_type": "code",
      "execution_count": 66,
      "id": "32040594",
      "metadata": {
        "id": "32040594"
      },
      "outputs": [],
      "source": [
        "#Using Logistic Regression for our model\n",
        "#model=RandomForestClassifier()\n",
        "\n",
        "log_model = LogisticRegression(C = 10, solver = 'liblinear')\n",
        "log_model.fit(x_train, y_train)\n",
        "\n",
        "y_pred = log_model.predict(x_test)\n",
        "accuracy =accuracy_score(y_test, y_pred)\n",
        "precision = precision_score(y_test, y_pred)\n",
        "recall = recall_score(y_test, y_pred)\n",
        "f1=f1_score(y_test, y_pred)"
      ]
    },
    {
      "cell_type": "code",
      "execution_count": 67,
      "id": "37dd195b",
      "metadata": {
        "colab": {
          "base_uri": "https://localhost:8080/"
        },
        "id": "37dd195b",
        "outputId": "19b372d8-748c-48fd-aadc-e579f9a6d6d0"
      },
      "outputs": [
        {
          "name": "stdout",
          "output_type": "stream",
          "text": [
            "The accuracy is 0.700\n",
            "The precision is 0.694\n",
            "The recall is 0.717\n",
            "The f1 is 0.705\n"
          ]
        }
      ],
      "source": [
        "print(f'The accuracy is {accuracy:.3f}')\n",
        "print(f'The precision is {precision:.3f}')\n",
        "print(f'The recall is {recall:.3f}')\n",
        "print(f'The f1 is {f1:.3f}')"
      ]
    },
    {
      "cell_type": "code",
      "execution_count": 68,
      "id": "3f42644f",
      "metadata": {
        "colab": {
          "base_uri": "https://localhost:8080/"
        },
        "id": "3f42644f",
        "outputId": "dc7434b6-f29d-42c0-bd2c-b70db6f64204"
      },
      "outputs": [
        {
          "name": "stdout",
          "output_type": "stream",
          "text": [
            "              precision    recall  f1-score   support\n",
            "\n",
            "           0       0.71      0.68      0.70     45127\n",
            "           1       0.69      0.72      0.71     45151\n",
            "\n",
            "    accuracy                           0.70     90278\n",
            "   macro avg       0.70      0.70      0.70     90278\n",
            "weighted avg       0.70      0.70      0.70     90278\n",
            "\n"
          ]
        }
      ],
      "source": [
        "print(classification_report(y_test, y_pred))"
      ]
    },
    {
      "cell_type": "code",
      "execution_count": 69,
      "id": "WTgu0CmFEuza",
      "metadata": {
        "colab": {
          "base_uri": "https://localhost:8080/"
        },
        "id": "WTgu0CmFEuza",
        "outputId": "8e73cdee-7833-445b-ca66-fe8e1ef14379"
      },
      "outputs": [
        {
          "name": "stdout",
          "output_type": "stream",
          "text": [
            "Requirement already satisfied: xgboost in c:\\users\\user\\anaconda3\\lib\\site-packages (2.0.3)\n",
            "Requirement already satisfied: numpy in c:\\users\\user\\anaconda3\\lib\\site-packages (from xgboost) (1.24.3)\n",
            "Requirement already satisfied: scipy in c:\\users\\user\\anaconda3\\lib\\site-packages (from xgboost) (1.11.1)\n"
          ]
        }
      ],
      "source": [
        "!pip install xgboost\n",
        "import xgboost"
      ]
    },
    {
      "cell_type": "code",
      "execution_count": 70,
      "id": "q1TDTPJcEo9A",
      "metadata": {
        "colab": {
          "base_uri": "https://localhost:8080/"
        },
        "id": "q1TDTPJcEo9A",
        "outputId": "c3f64dac-dcb5-4f1a-f1c6-87d2b142b863"
      },
      "outputs": [
        {
          "name": "stdout",
          "output_type": "stream",
          "text": [
            "              precision    recall  f1-score   support\n",
            "\n",
            "           0       0.87      0.99      0.92     45127\n",
            "           1       0.98      0.85      0.91     45151\n",
            "\n",
            "    accuracy                           0.92     90278\n",
            "   macro avg       0.93      0.92      0.92     90278\n",
            "weighted avg       0.93      0.92      0.92     90278\n",
            "\n"
          ]
        }
      ],
      "source": [
        "xg_model = xgboost.XGBClassifier(objective=\"binary:logistic\", random_state=42)\n",
        "\n",
        "xg_model.fit(x_train, y_train)\n",
        "\n",
        "y_predict = xg_model.predict(x_test)\n",
        "print(classification_report(y_test, y_predict))"
      ]
    },
    {
      "cell_type": "markdown",
      "id": "3265d6eb",
      "metadata": {
        "id": "3265d6eb"
      },
      "source": []
    },
    {
      "cell_type": "markdown",
      "id": "F-Vo6A-izA6g",
      "metadata": {
        "id": "F-Vo6A-izA6g"
      },
      "source": [
        "#### LOADING THE MODEL"
      ]
    },
    {
      "cell_type": "code",
      "execution_count": 71,
      "id": "98a814c9",
      "metadata": {
        "id": "98a814c9"
      },
      "outputs": [],
      "source": [
        "import joblib"
      ]
    },
    {
      "cell_type": "code",
      "execution_count": 72,
      "id": "ef096a50",
      "metadata": {
        "colab": {
          "base_uri": "https://localhost:8080/"
        },
        "id": "ef096a50",
        "outputId": "4c5c0426-7391-4e2d-b675-9748398c110b"
      },
      "outputs": [
        {
          "data": {
            "text/plain": [
              "['xg_modelled.joblib']"
            ]
          },
          "execution_count": 72,
          "metadata": {},
          "output_type": "execute_result"
        }
      ],
      "source": [
        "joblib.dump(xg_model, 'xg_modelled.joblib')"
      ]
    },
    {
      "cell_type": "code",
      "execution_count": 73,
      "id": "75917445",
      "metadata": {
        "id": "75917445"
      },
      "outputs": [],
      "source": [
        "loaded_model = joblib.load(r\"xg_modelled.joblib\")"
      ]
    },
    {
      "cell_type": "code",
      "execution_count": 74,
      "id": "3b5543e5",
      "metadata": {
        "colab": {
          "base_uri": "https://localhost:8080/"
        },
        "id": "3b5543e5",
        "outputId": "df449766-7440-4c80-d6ec-35ed2ac856a6"
      },
      "outputs": [
        {
          "data": {
            "text/plain": [
              "array([1, 1, 1, ..., 1, 0, 1])"
            ]
          },
          "execution_count": 74,
          "metadata": {},
          "output_type": "execute_result"
        }
      ],
      "source": [
        "loaded_model.predict(x_test)"
      ]
    },
    {
      "cell_type": "code",
      "execution_count": null,
      "id": "c7c39438",
      "metadata": {
        "id": "c7c39438"
      },
      "outputs": [],
      "source": []
    }
  ],
  "metadata": {
    "colab": {
      "provenance": []
    },
    "kernelspec": {
      "display_name": "Python 3 (ipykernel)",
      "language": "python",
      "name": "python3"
    },
    "language_info": {
      "codemirror_mode": {
        "name": "ipython",
        "version": 3
      },
      "file_extension": ".py",
      "mimetype": "text/x-python",
      "name": "python",
      "nbconvert_exporter": "python",
      "pygments_lexer": "ipython3",
      "version": "3.11.5"
    }
  },
  "nbformat": 4,
  "nbformat_minor": 5
}
